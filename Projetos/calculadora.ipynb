{
 "cells": [
  {
   "cell_type": "code",
   "execution_count": 21,
   "metadata": {},
   "outputs": [],
   "source": [
    "import math"
   ]
  },
  {
   "cell_type": "code",
   "execution_count": 46,
   "metadata": {},
   "outputs": [],
   "source": [
    "def calculadora():\n",
    "\n",
    "    while True:\n",
    "\n",
    "        print('MINHA PRIMEIRA CALCULADORA!')\n",
    "        print('----------------------------')\n",
    "        print('Escolha sua opção: ')\n",
    "        print('----------------------------')\n",
    "        print('1 - ADIÇÃO')\n",
    "        print('2 - SUBTRAÇÃO')\n",
    "        print('3 - MULTIPLICAÇÃO')\n",
    "        print('4 - DIVISÃO')\n",
    "        print('5 - POTÊNCIA')\n",
    "        print('6 - RAIZ QUADRADA')\n",
    "        print('----------------------------')\n",
    "        print('0 - Encerrar.')\n",
    "        print('----------------------------')\n",
    "\n",
    "        opcao = input('Digite a opção desejada ou zero para encerrar a calculadora: ')\n",
    "\n",
    "        if opcao == '0':\n",
    "            print('Encerrando... até mais!')\n",
    "            break\n",
    "        elif opcao not in ['1', '2', '3', '4', '5', '6']:\n",
    "            print('OPÇÃO INVÁLIDA. Tente novamente.')\n",
    "\n",
    "        def PedirNumeros():\n",
    "            if opcao in ['1', '2', '3', '4','5']:\n",
    "                try:\n",
    "                    a = float(input('Digite o primeiro número: '))\n",
    "                    b = float(input('Digite o segundo número: '))\n",
    "                    return a, b\n",
    "                except ValueError:\n",
    "                    print('Valor inválido. Favor digitar apenas números válidos.')\n",
    "                    print('----------------------------')\n",
    "            elif opcao == '6':\n",
    "                a = float(input('Digite um número: '))\n",
    "                b = a\n",
    "                return a,b\n",
    "            \n",
    "        a, b = PedirNumeros()\n",
    "\n",
    "        if opcao == '1':\n",
    "            res = a + b\n",
    "            print('ADIÇÃO')\n",
    "            print('----------------------------')\n",
    "            print(f'{a} + {b} = {res}')\n",
    "        elif opcao == '2':\n",
    "            res = a - b\n",
    "            print('SUBTRAÇÃO')\n",
    "            print('----------------------------')\n",
    "            print(f'{a} - {b} = {res}')\n",
    "        elif opcao == '3':\n",
    "            res = a * b\n",
    "            print('MULTIPLICAÇÃO')\n",
    "            print('----------------------------')\n",
    "            print(f'{a} x {b} = {res}')\n",
    "        elif opcao == '4':\n",
    "            res = a / b\n",
    "            print('DIVISÃO')\n",
    "            print('----------------------------')\n",
    "            print(f'{a} / {b} = {res}')\n",
    "        elif opcao == '5':\n",
    "            res = math.pow(a, b)\n",
    "            print('Opção selecionada: POTÊNCIA')\n",
    "            print('----------------------------')\n",
    "            print(f'{a} ^ {b} = {res}')\n",
    "        elif opcao == '6':\n",
    "            res = math.sqrt(a)\n",
    "            print('Opção selecionada: RAIZ QUADRADA')\n",
    "            print('----------------------------')\n",
    "            print(f'√{a} = {res}')\n",
    "\n",
    "        break\n"
   ]
  },
  {
   "cell_type": "code",
   "execution_count": 47,
   "metadata": {},
   "outputs": [
    {
     "name": "stdout",
     "output_type": "stream",
     "text": [
      "MINHA PRIMEIRA CALCULADORA!\n",
      "----------------------------\n",
      "Escolha sua opção: \n",
      "----------------------------\n",
      "1 - ADIÇÃO\n",
      "2 - SUBTRAÇÃO\n",
      "3 - MULTIPLICAÇÃO\n",
      "4 - DIVISÃO\n",
      "5 - POTÊNCIA\n",
      "6 - RAIZ QUADRADA\n",
      "----------------------------\n",
      "0 - Encerrar.\n",
      "----------------------------\n",
      "Opção selecionada: RAIZ QUADRADA\n",
      "----------------------------\n",
      "√5.0 = 2.23606797749979\n"
     ]
    }
   ],
   "source": [
    "calculadora()"
   ]
  },
  {
   "cell_type": "code",
   "execution_count": null,
   "metadata": {},
   "outputs": [],
   "source": []
  }
 ],
 "metadata": {
  "kernelspec": {
   "display_name": "Python 3",
   "language": "python",
   "name": "python3"
  },
  "language_info": {
   "codemirror_mode": {
    "name": "ipython",
    "version": 3
   },
   "file_extension": ".py",
   "mimetype": "text/x-python",
   "name": "python",
   "nbconvert_exporter": "python",
   "pygments_lexer": "ipython3",
   "version": "3.12.6"
  }
 },
 "nbformat": 4,
 "nbformat_minor": 2
}
